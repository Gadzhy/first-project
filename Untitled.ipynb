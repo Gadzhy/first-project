{
 "cells": [
  {
   "cell_type": "code",
   "execution_count": null,
   "id": "68d23d76-7656-4f6f-955e-75586b30d17d",
   "metadata": {},
   "outputs": [],
   "source": [
    "Проект"
   ]
  },
  {
   "cell_type": "code",
   "execution_count": null,
   "id": "0b5fdb79-c568-4fba-846e-a9b6dc7abcd3",
   "metadata": {},
   "outputs": [],
   "source": [
    "лорлор"
   ]
  },
  {
   "cell_type": "code",
   "execution_count": null,
   "id": "f6e1e1fc-3647-471d-98b1-57138308033b",
   "metadata": {},
   "outputs": [],
   "source": [
    "длродлд"
   ]
  },
  {
   "cell_type": "code",
   "execution_count": null,
   "id": "0c088315-bf6b-4bfd-8ea2-d2f04e2dcc14",
   "metadata": {},
   "outputs": [],
   "source": []
  },
  {
   "cell_type": "code",
   "execution_count": null,
   "id": "7827791d-e2ad-4b18-b0c9-828ab2c69966",
   "metadata": {},
   "outputs": [],
   "source": []
  },
  {
   "cell_type": "code",
   "execution_count": null,
   "id": "6b2765c6-166b-4279-a08d-ebf228524580",
   "metadata": {},
   "outputs": [],
   "source": []
  },
  {
   "cell_type": "code",
   "execution_count": null,
   "id": "bf43cdc8-1d0f-4ef0-ba9b-8ec01c7e7721",
   "metadata": {},
   "outputs": [],
   "source": []
  },
  {
   "cell_type": "code",
   "execution_count": null,
   "id": "dd588b29-e3de-4eed-8d15-221560163468",
   "metadata": {},
   "outputs": [],
   "source": []
  }
 ],
 "metadata": {
  "kernelspec": {
   "display_name": "Python [conda env:base] *",
   "language": "python",
   "name": "conda-base-py"
  },
  "language_info": {
   "codemirror_mode": {
    "name": "ipython",
    "version": 3
   },
   "file_extension": ".py",
   "mimetype": "text/x-python",
   "name": "python",
   "nbconvert_exporter": "python",
   "pygments_lexer": "ipython3",
   "version": "3.12.7"
  }
 },
 "nbformat": 4,
 "nbformat_minor": 5
}
